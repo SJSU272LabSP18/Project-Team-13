{
 "cells": [
  {
   "cell_type": "code",
   "execution_count": null,
   "metadata": {},
   "outputs": [],
   "source": [
    "# Licensed under the Apache License, Version 2.0 (the \"License\"); you may\n",
    "# not use this file except in compliance with the License. You may obtain\n",
    "# a copy of the License at\n",
    "#\n",
    "#      http://www.apache.org/licenses/LICENSE-2.0\n",
    "#\n",
    "# Unless required by applicable law or agreed to in writing, software\n",
    "# distributed under the License is distributed on an \"AS IS\" BASIS, WITHOUT\n",
    "# WARRANTIES OR CONDITIONS OF ANY KIND, either express or implied. See the\n",
    "# License for the specific language governing permissions and limitations\n",
    "# under the License."
   ]
  },
  {
   "cell_type": "markdown",
   "metadata": {},
   "source": [
    "# Creating a Scalable Volunteer-Project Recommender for WeServe\n",
    "\n",
    "In this notebook, you will create a recommendation engine using Spark and Elasticsearch. Volunteer-Project's weighted score data is used to train a collaborative filtering model in Spark and export the trained model to Elasticsearch. Once exported, you can test your recommendations by querying Elasticsearch and displaying the results.\n",
    "\n",
    "### _Prerequisites_\n",
    "\n",
    "The notebook assumes you have installed Elasticsearch, the Elasticsearch vector-scoring plugin, Apache Spark and the Elasticsearch Spark connector detailed in the [setup steps](https://github.com/MLnick/elasticsearch-spark-recommender-demo/tree/master#steps).\n",
    "\n",
    "## Overview\n",
    "\n",
    "You will work through the following steps\n",
    "\n",
    "1. Prepare the data\n",
    "2. Use the Elasticsearch Spark connector to save it to Elasticsearch\n",
    "3. Load weighted score data and train a collaborative filtering recommendation model using Spark MLlib\n",
    "3. Save the model to Elasticsearch\n",
    "4. Show recommendations using Elasticsearch vector scoring plugin"
   ]
  },
  {
   "cell_type": "code",
   "execution_count": 1,
   "metadata": {
    "scrolled": false
   },
   "outputs": [
    {
     "data": {
      "text/html": [
       "\n",
       "            <div>\n",
       "                <p><b>SparkSession - hive</b></p>\n",
       "                \n",
       "        <div>\n",
       "            <p><b>SparkContext</b></p>\n",
       "\n",
       "            <p><a href=\"http://10.0.2.15:4040\">Spark UI</a></p>\n",
       "\n",
       "            <dl>\n",
       "              <dt>Version</dt>\n",
       "                <dd><code>v2.3.0</code></dd>\n",
       "              <dt>Master</dt>\n",
       "                <dd><code>local[*]</code></dd>\n",
       "              <dt>AppName</dt>\n",
       "                <dd><code>PySparkShell</code></dd>\n",
       "            </dl>\n",
       "        </div>\n",
       "        \n",
       "            </div>\n",
       "        "
      ],
      "text/plain": [
       "<pyspark.sql.session.SparkSession at 0x7f54c111d090>"
      ]
     },
     "execution_count": 1,
     "metadata": {},
     "output_type": "execute_result"
    }
   ],
   "source": [
    "# first import a few utility methods that we'll use later on\n",
    "from IPython.display import Image, HTML, display\n",
    "# check PySpark is running\n",
    "spark"
   ]
  },
  {
   "cell_type": "markdown",
   "metadata": {},
   "source": [
    "### ES date needs to be in epoch + millisec only"
   ]
  },
  {
   "cell_type": "code",
   "execution_count": 2,
   "metadata": {},
   "outputs": [
    {
     "name": "stdout",
     "output_type": "stream",
     "text": [
      "Number of scores: 14080\n",
      "Sample of scores:\n",
      "+------+---------+-----+-------------+\n",
      "|userId|projectId|score|    epochtime|\n",
      "+------+---------+-----+-------------+\n",
      "|     1|        1| 0.59|1489770485000|\n",
      "|     1|        2| 3.93|1434876168000|\n",
      "|     1|        3| 4.42|1456560157000|\n",
      "|     1|        4| 3.68|1510301386000|\n",
      "|     1|        5|  0.1|1483925429000|\n",
      "+------+---------+-----+-------------+\n",
      "only showing top 5 rows\n",
      "\n"
     ]
    }
   ],
   "source": [
    "PATH_TO_DATA = \"/media/sf_mac_downloads\"\n",
    "# load ratings data\n",
    "score = spark.read.csv(PATH_TO_DATA + \"/WeightedScore.csv\", header=True, inferSchema=True)\n",
    "score.cache()\n",
    "print(\"Number of scores: %i\" % score.count())\n",
    "print(\"Sample of scores:\")\n",
    "score.show(5)"
   ]
  },
  {
   "cell_type": "code",
   "execution_count": 3,
   "metadata": {},
   "outputs": [
    {
     "name": "stdout",
     "output_type": "stream",
     "text": [
      "Number of Projects: 128\n",
      "Sample of projects:\n",
      "+---+---------+--------------------+--------------------+--------------------+--------------------+--------------------+--------------------+--------------------+--------------------+--------------------+\n",
      "| id|ngoUserId|             ngoName|              region|                name|               scope|                need|       beneficiaries|             funding|             contact|            imageUrl|\n",
      "+---+---------+--------------------+--------------------+--------------------+--------------------+--------------------+--------------------+--------------------+--------------------+--------------------+\n",
      "|  1|        7|Jayaprakash Naray...|Noida, Uttar Prad...|Vidya & Child: Ar...|Exposure to art i...|The JP Narayan Tr...|                250 |       INR 4,94,000 |jawahar.k@cii.in ...|https://source.un...|\n",
      "|  2|       87| Deep Griha Society |3 urban slums: Pu...|Creches for worki...|This project is d...|The benefits of t...|300 families; ie:...|      INR 18,72,433 |/ sarbani.chakrav...|https://source.un...|\n",
      "|  3|       12|         Let MeKnow |          Pan India |Awareness about o...|This project is a...|Youth, particular...|10 million (over ...|INR 20,00,000 (ov...|jawahar.k@cii.in ...|https://source.un...|\n",
      "|  4|       18|         Let MeKnow |          Pan India |Connecting organi...|This project will...|The project will ...|10,000 organizati...|INR 15,00,000 (ov...|/ sarbani.chakrav...|https://source.un...|\n",
      "|  5|       66|New Resolution In...|        Maharashtra |Seed your Dreams ...|This programme ho...|The backbone of t...|              1200+ |      INR 20,65,400 |jawahar.k@cii.in ...|https://source.un...|\n",
      "+---+---------+--------------------+--------------------+--------------------+--------------------+--------------------+--------------------+--------------------+--------------------+--------------------+\n",
      "only showing top 5 rows\n",
      "\n"
     ]
    }
   ],
   "source": [
    "projectInfo = spark.read.csv(\"/home/thol/Project-Team-13/mysql_bkp/projects.csv\", header=True, inferSchema=True)\n",
    "projectInfo.cache()\n",
    "print(\"Number of Projects: %i\" % projectInfo.count())\n",
    "print(\"Sample of projects:\")\n",
    "projectInfo.show(5)"
   ]
  },
  {
   "cell_type": "code",
   "execution_count": 4,
   "metadata": {},
   "outputs": [
    {
     "name": "stdout",
     "output_type": "stream",
     "text": [
      "Number of Users: 117\n",
      "Sample of Users:\n",
      "+------+----------+--------+-----------+--------------------+---------+--------+--------------------+--------------------+----------+------------+-----------+----------+\n",
      "|userID|  userType|username|   password|               email|firstName|lastName|               image|         description|    region|  attribute0| attribute1|attribute2|\n",
      "+------+----------+--------+-----------+--------------------+---------+--------+--------------------+--------------------+----------+------------+-----------+----------+\n",
      "|     1|consultant|AGAJLZ69|XTU11ROA3MK|magna.sed@quislec...|      Lev|  Wilcox|https://source.un...|lectus rutrum urn...|        Z.|    children|   disaster|disability|\n",
      "|     2|       ngo|BUBGNC71|SXP10DDC8HX|fringilla@consect...| Germaine|   Hayes|https://source.un...|luctus. Curabitur...|        AB|   education|environment|      lgbt|\n",
      "|     3|consultant|XLZNRZ45|GEV31LTC7IE|Curabitur.ut@fauc...|      Leo|    Huff|https://source.un...|commodo hendrerit...|   Alberta|     animals| technology|    senior|\n",
      "|     4|consultant|XSDIJM69|TQM88JVG8NI|gkbul@convallisan...|     Dana|   Joyce|https://source.un...|sem egestas bland...|Valpara�so|construction| technology|    hunger|\n",
      "|     5|       ngo|YBYUKI96|QAZ38GKX5WD|tincidunt@Aliquam...|    Rajah|   Stone|https://source.un...|lobortis. Class a...|        MI|    children| technology|    hunger|\n",
      "+------+----------+--------+-----------+--------------------+---------+--------+--------------------+--------------------+----------+------------+-----------+----------+\n",
      "only showing top 5 rows\n",
      "\n"
     ]
    }
   ],
   "source": [
    "users = spark.read.csv(PATH_TO_DATA + \"/Users.csv\", header=True, inferSchema=True)\n",
    "users.cache()\n",
    "print(\"Number of Users: %i\" % users.count())\n",
    "print(\"Sample of Users:\")\n",
    "users.show(5)"
   ]
  },
  {
   "cell_type": "code",
   "execution_count": 5,
   "metadata": {},
   "outputs": [
    {
     "data": {
      "text/plain": [
       "{u'cluster_name': u'elasticsearch',\n",
       " u'cluster_uuid': u'vtmKKHjSRn2fYuFt6gyrzQ',\n",
       " u'name': u'TTp40ht',\n",
       " u'tagline': u'You Know, for Search',\n",
       " u'version': {u'build_date': u'2017-03-23T03:31:50.652Z',\n",
       "  u'build_hash': u'3adb13b',\n",
       "  u'build_snapshot': False,\n",
       "  u'lucene_version': u'6.4.1',\n",
       "  u'number': u'5.3.0'}}"
      ]
     },
     "execution_count": 5,
     "metadata": {},
     "output_type": "execute_result"
    }
   ],
   "source": [
    "from elasticsearch import Elasticsearch\n",
    "\n",
    "# test your ES instance is running\n",
    "es = Elasticsearch()\n",
    "es.info(pretty=True)"
   ]
  },
  {
   "cell_type": "code",
   "execution_count": 6,
   "metadata": {},
   "outputs": [
    {
     "data": {
      "text/plain": [
       "{u'acknowledged': True}"
      ]
     },
     "execution_count": 6,
     "metadata": {},
     "output_type": "execute_result"
    }
   ],
   "source": [
    "es.indices.delete(index=\"weserve\")"
   ]
  },
  {
   "cell_type": "code",
   "execution_count": 7,
   "metadata": {},
   "outputs": [
    {
     "data": {
      "text/plain": [
       "{u'acknowledged': True, u'shards_acknowledged': True}"
      ]
     },
     "execution_count": 7,
     "metadata": {},
     "output_type": "execute_result"
    }
   ],
   "source": [
    "create_index = {\n",
    "    \"settings\": {\n",
    "        \"analysis\": {\n",
    "            \"analyzer\": {\n",
    "                # this configures the custom analyzer we need to parse vectors such that the scoring\n",
    "                # plugin will work correctly\n",
    "                \"payload_analyzer\": {\n",
    "                    \"type\": \"custom\",\n",
    "                    \"tokenizer\":\"whitespace\",\n",
    "                    \"filter\":\"delimited_payload_filter\"\n",
    "                }\n",
    "            }\n",
    "        }\n",
    "    },\n",
    "    \"mappings\": {\n",
    "        \"score\": {\n",
    "          # this mapping definition sets up the fields for the rating events\n",
    "          \"properties\": {\n",
    "                \"userId\": {\n",
    "                    \"type\": \"integer\"\n",
    "                },\n",
    "                \"projectId\": {\n",
    "                    \"type\": \"integer\"\n",
    "                },\n",
    "                \"score\": {\n",
    "                    \"type\": \"double\"\n",
    "                },\n",
    "                \"epochtime\": {\n",
    "                    \"type\": \"date\"\n",
    "                }\n",
    "            }  \n",
    "        },\n",
    "        \"users\": {\n",
    "            # this mapping definition sets up the metadata fields for the users\n",
    "            \"properties\": {\n",
    "                \"@model\": {\n",
    "                    # this mapping definition sets up the fields for user factor vectors of our model\n",
    "                    \"properties\": {\n",
    "                        \"factor\": {\n",
    "                            \"type\": \"text\",\n",
    "                            \"term_vector\": \"with_positions_offsets_payloads\",\n",
    "                            \"analyzer\" : \"payload_analyzer\"\n",
    "                        },\n",
    "                        \"version\": {\n",
    "                            \"type\": \"keyword\"\n",
    "                        },\n",
    "                        \"timestamp\": {\n",
    "                            \"type\": \"date\"\n",
    "                        }\n",
    "                    }\n",
    "                }\n",
    "            }\n",
    "        },\n",
    "        \"projects\": {\n",
    "          # this mapping definition sets up the fields for the rating events\n",
    "          \"properties\": {\n",
    "                \"@model\": {\n",
    "                    # this mapping definition sets up the fields for project factor vectors of our model\n",
    "                    \"properties\": {\n",
    "                        \"factor\": {\n",
    "                            \"type\": \"text\",\n",
    "                            \"term_vector\": \"with_positions_offsets_payloads\",\n",
    "                            \"analyzer\" : \"payload_analyzer\"\n",
    "                        },\n",
    "                        \"version\": {\n",
    "                            \"type\": \"keyword\"\n",
    "                        },\n",
    "                        \"timestamp\": {\n",
    "                            \"type\": \"date\"\n",
    "                        }\n",
    "                    }\n",
    "                }\n",
    "            }  \n",
    "        }\n",
    "    }\n",
    "}\n",
    "# create index with the settings and mappings above\n",
    "es.indices.create(index=\"weserve\", body=create_index)"
   ]
  },
  {
   "cell_type": "code",
   "execution_count": 8,
   "metadata": {},
   "outputs": [
    {
     "name": "stdout",
     "output_type": "stream",
     "text": [
      "Dataframe count: 14080\n",
      "ES index count:  14080\n"
     ]
    }
   ],
   "source": [
    "# write ratings data\n",
    "score.write.format(\"es\").save(\"weserve/score\")\n",
    "# check write went ok\n",
    "print(\"Dataframe count: %d\" % score.count())\n",
    "print(\"ES index count:  %d\" % es.count(index=\"weserve\", doc_type=\"score\")['count'])"
   ]
  },
  {
   "cell_type": "code",
   "execution_count": 9,
   "metadata": {
    "scrolled": true
   },
   "outputs": [
    {
     "data": {
      "text/plain": [
       "{u'_shards': {u'failed': 0, u'successful': 5, u'total': 5},\n",
       " u'hits': {u'hits': [{u'_id': u'AWMjo_RVKiw5AfXZ8gux',\n",
       "    u'_index': u'weserve',\n",
       "    u'_score': 1.0,\n",
       "    u'_source': {u'epochtime': 1438601747000,\n",
       "     u'projectId': 7,\n",
       "     u'score': 2.59,\n",
       "     u'userId': 1},\n",
       "    u'_type': u'score'},\n",
       "   {u'_id': u'AWMjo_RVKiw5AfXZ8guy',\n",
       "    u'_index': u'weserve',\n",
       "    u'_score': 1.0,\n",
       "    u'_source': {u'epochtime': 1446743909000,\n",
       "     u'projectId': 8,\n",
       "     u'score': 4.44,\n",
       "     u'userId': 1},\n",
       "    u'_type': u'score'},\n",
       "   {u'_id': u'AWMjo_RVKiw5AfXZ8guz',\n",
       "    u'_index': u'weserve',\n",
       "    u'_score': 1.0,\n",
       "    u'_source': {u'epochtime': 1479663225000,\n",
       "     u'projectId': 9,\n",
       "     u'score': 1.04,\n",
       "     u'userId': 1},\n",
       "    u'_type': u'score'}],\n",
       "  u'max_score': 1.0,\n",
       "  u'total': 14080},\n",
       " u'timed_out': False,\n",
       " u'took': 77}"
      ]
     },
     "execution_count": 9,
     "metadata": {},
     "output_type": "execute_result"
    }
   ],
   "source": [
    "# test things out by retrieving a few rating event documents from Elasticsearch\n",
    "es.search(index=\"weserve\", doc_type=\"score\", q=\"*\", size=3)"
   ]
  },
  {
   "cell_type": "code",
   "execution_count": 10,
   "metadata": {},
   "outputs": [
    {
     "data": {
      "text/plain": [
       "{u'_shards': {u'failed': 0, u'successful': 5, u'total': 5}, u'count': 415}"
      ]
     },
     "execution_count": 10,
     "metadata": {},
     "output_type": "execute_result"
    }
   ],
   "source": [
    "es.count(index=\"weserve\", doc_type=\"score\", q=\"epochtime:[2016-01-01 TO 2016-02-01]\")\n",
    "#es.search(index=\"weserve\", doc_type=\"score\", q=\"projectId:14\", size=10)"
   ]
  },
  {
   "cell_type": "code",
   "execution_count": 12,
   "metadata": {},
   "outputs": [
    {
     "name": "stdout",
     "output_type": "stream",
     "text": [
      "projectInfo DF count: 128\n",
      "ES index count: 128\n"
     ]
    }
   ],
   "source": [
    "# write projectInfo data\n",
    "projectInfo.write.format(\"es\").option(\"es.mapping.id\", \"id\").save(\"weserve/projects\")\n",
    "# check load went ok\n",
    "print(\"projectInfo DF count: %d\" % projectInfo.count())\n",
    "print(\"ES index count: %d\" % es.count(index=\"weserve\", doc_type=\"projects\")['count'])"
   ]
  },
  {
   "cell_type": "code",
   "execution_count": 13,
   "metadata": {},
   "outputs": [
    {
     "data": {
      "text/plain": [
       "{u'_shards': {u'failed': 0, u'successful': 5, u'total': 5},\n",
       " u'hits': {u'hits': [{u'_id': u'8',\n",
       "    u'_index': u'weserve',\n",
       "    u'_score': 1.0,\n",
       "    u'_source': {u'beneficiaries': u'Primary beneficiaries: 150 in 2011, 550 in 2012, and 1000 in 2013 ',\n",
       "     u'contact': u'/ sarbani.chakravarty@cii.in / 0124-401 4535 (D), ',\n",
       "     u'funding': u'INR 30,40,000 (in 2012) ',\n",
       "     u'id': 8,\n",
       "     u'imageUrl': u'https://source.unsplash.com/ViEBSoZH6M4',\n",
       "     u'name': u'Broadening access to tertiary education ',\n",
       "     u'need': u'There is a systemic bias against poor students gaining admission to and succeeding at Indias premier universities. Students from poor homes have limited access to additional coaching for competitive exams due to the high fees charged for such tutoring, a',\n",
       "     u'ngoName': u'Avanti Fellows ',\n",
       "     u'ngoUserId': 106,\n",
       "     u'region': u'Mumbai, Chennai, Delhi, Kanpur ',\n",
       "     u'scope': u'Avanti Fellows identifies bright high school students from poor homes and provides them mentorship, training and financial aid in the years leading to university and continuing all through their years in university. Each Avanti Fellow is paired with his/ '},\n",
       "    u'_type': u'projects'},\n",
       "   {u'_id': u'9',\n",
       "    u'_index': u'weserve',\n",
       "    u'_score': 1.0,\n",
       "    u'_source': {u'beneficiaries': u'6000 ',\n",
       "     u'contact': u'jawahar.k@cii.in / sarbani.chakravarty@cii.in / 0124-401 ',\n",
       "     u'funding': u'INR 5,40,000 ',\n",
       "     u'id': 9,\n",
       "     u'imageUrl': u'https://source.unsplash.com/KigTvXqetXA',\n",
       "     u'name': u'Family Home Sponsorship ',\n",
       "     u'need': u\"The basis and aim of the Family Home Sponsorship project is to respect, promote and stand up for children's rights. Along with SOSs lobbying activities, the organization encourages children to actively take part in the decision-making processes that affe\",\n",
       "     u'ngoName': u\"SOS Children's Villages of India \",\n",
       "     u'ngoUserId': 49,\n",
       "     u'region': u'Pan India ',\n",
       "     u'scope': u'SOS Childrens Villages build families for children in need, help them shape their own futures and share in the development of their communities. The project is ongoing and the funds will be utilized to meet expenses incurred on the children such as food '},\n",
       "    u'_type': u'projects'},\n",
       "   {u'_id': u'10',\n",
       "    u'_index': u'weserve',\n",
       "    u'_score': 1.0,\n",
       "    u'_source': {u'beneficiaries': u'1000 households ',\n",
       "     u'contact': u'/ sarbani.chakravarty@cii.in / 0124-401 4535 (D), ',\n",
       "     u'funding': u'INR 10,08,000 ',\n",
       "     u'id': 10,\n",
       "     u'imageUrl': u'https://source.unsplash.com/UCZF1sXcejo',\n",
       "     u'name': u'Assistance for skill-based training for youth ',\n",
       "     u'need': u'This project aims to guide the youth in the right direction so that they can achieve their goals in the future. The youth will become responsible citizens by allowing them to choose their own fields of training and to help them starting their own business',\n",
       "     u'ngoName': u'Literacy India ',\n",
       "     u'ngoUserId': 79,\n",
       "     u'region': u'Gurgaon, Haryana, West Bengal & Rajasthan ',\n",
       "     u'scope': u'Literacy India recognizes that an increasing number of young men and women are becoming restless, unfocused and resentful of their lives. This Gurgaonbased project will provide skill-based training to the youth according to their personal preferences to r'},\n",
       "    u'_type': u'projects'}],\n",
       "  u'max_score': 1.0,\n",
       "  u'total': 3},\n",
       " u'timed_out': False,\n",
       " u'took': 28}"
      ]
     },
     "execution_count": 13,
     "metadata": {},
     "output_type": "execute_result"
    }
   ],
   "source": [
    "es.search(index=\"weserve\", doc_type=\"projects\", q=\"id:[8 TO 10]\")"
   ]
  },
  {
   "cell_type": "markdown",
   "metadata": {},
   "source": [
    "### Load Elastic Search data to Spark DataFrame"
   ]
  },
  {
   "cell_type": "code",
   "execution_count": 14,
   "metadata": {},
   "outputs": [
    {
     "name": "stdout",
     "output_type": "stream",
     "text": [
      "+-------------------+---------+-----+------+\n",
      "|          epochtime|projectId|score|userId|\n",
      "+-------------------+---------+-----+------+\n",
      "|2015-06-21 01:42:48|        2| 3.93|     1|\n",
      "|2015-12-23 02:33:44|       24| 4.68|     1|\n",
      "|2017-08-10 02:29:32|       25| 1.41|     1|\n",
      "|2018-01-31 01:06:31|       27| 3.46|     1|\n",
      "|2015-09-09 06:06:36|       29| 3.71|     1|\n",
      "+-------------------+---------+-----+------+\n",
      "only showing top 5 rows\n",
      "\n"
     ]
    }
   ],
   "source": [
    "#This data already in score DF, but still trying to create DF by reading from ES\n",
    "score_from_es = spark.read.format(\"es\").load(\"weserve/score\")\n",
    "score_from_es.show(5)"
   ]
  },
  {
   "cell_type": "code",
   "execution_count": 15,
   "metadata": {},
   "outputs": [
    {
     "name": "stdout",
     "output_type": "stream",
     "text": [
      "+------+--------------------+--------------------+--------------------+---+--------------------+--------------------+--------------------+--------------------+---------+--------------------+--------------------+\n",
      "|@model|       beneficiaries|             contact|             funding| id|            imageUrl|                name|                need|             ngoName|ngoUserId|              region|               scope|\n",
      "+------+--------------------+--------------------+--------------------+---+--------------------+--------------------+--------------------+--------------------+---------+--------------------+--------------------+\n",
      "|  null|              1200+ |jawahar.k@cii.in ...|      INR 20,65,400 |  5|https://source.un...|Seed your Dreams ...|The backbone of t...|New Resolution In...|       66|        Maharashtra |This programme ho...|\n",
      "|  null|Primary beneficia...|/ sarbani.chakrav...|INR 30,40,000 (in...|  8|https://source.un...|Broadening access...|There is a system...|     Avanti Fellows |      106|Mumbai, Chennai, ...|Avanti Fellows id...|\n",
      "|  null|               6000 |jawahar.k@cii.in ...|       INR 5,40,000 |  9|https://source.un...|Family Home Spons...|The basis and aim...|SOS Children's Vi...|       49|          Pan India |SOS Childrens Vil...|\n",
      "|  null|    1000 households |/ sarbani.chakrav...|      INR 10,08,000 | 10|https://source.un...|Assistance for sk...|This project aims...|     Literacy India |       79|Gurgaon, Haryana,...|Literacy India re...|\n",
      "|  null|              100 + |/ sarbani.chakrav...|      INR 32,22,022 | 12|https://source.un...|Rehabilitation ce...|This project is f...|Jan Manas Vikas S...|      102|Lucknow, Uttar Pr...|This is a rehabil...|\n",
      "+------+--------------------+--------------------+--------------------+---+--------------------+--------------------+--------------------+--------------------+---------+--------------------+--------------------+\n",
      "only showing top 5 rows\n",
      "\n"
     ]
    }
   ],
   "source": [
    "#This data already in score DF, but still trying to create DF by reading from ES\n",
    "proj_from_es = spark.read.format(\"es\").load(\"weserve/projects\")\n",
    "proj_from_es.show(5)"
   ]
  },
  {
   "cell_type": "code",
   "execution_count": 16,
   "metadata": {},
   "outputs": [
    {
     "name": "stdout",
     "output_type": "stream",
     "text": [
      "+---+--------------------+\n",
      "| id|            features|\n",
      "+---+--------------------+\n",
      "| 10|[0.10417445, 0.31...|\n",
      "| 20|[0.14441033, 0.44...|\n",
      "| 30|[-0.13521, 0.2008...|\n",
      "| 40|[-0.14175962, -0....|\n",
      "| 50|[0.62669754, 0.46...|\n",
      "+---+--------------------+\n",
      "only showing top 5 rows\n",
      "\n",
      "+---+--------------------+\n",
      "| id|            features|\n",
      "+---+--------------------+\n",
      "| 10|[0.7050928, -0.61...|\n",
      "| 20|[0.81325096, -0.0...|\n",
      "| 30|[0.47546232, 0.25...|\n",
      "| 40|[1.1653336, 0.027...|\n",
      "| 50|[0.38668287, 0.49...|\n",
      "+---+--------------------+\n",
      "only showing top 5 rows\n",
      "\n"
     ]
    }
   ],
   "source": [
    "from pyspark.ml.recommendation import ALS\n",
    "from pyspark.sql.functions import col\n",
    "als = ALS(userCol=\"userId\", itemCol=\"projectId\", ratingCol=\"score\", regParam=0.01, rank=20, seed=12)\n",
    "model = als.fit(score_from_es)\n",
    "model.userFactors.show(5)\n",
    "model.itemFactors.show(5)"
   ]
  },
  {
   "cell_type": "code",
   "execution_count": 17,
   "metadata": {},
   "outputs": [],
   "source": [
    "from pyspark.sql.types import *\n",
    "from pyspark.sql.functions import udf, lit, current_timestamp, unix_timestamp\n",
    "\n",
    "def convert_vector(x):\n",
    "    '''Convert a list or numpy array to delimited token filter format'''\n",
    "    return \" \".join([\"%s|%s\" % (i, v) for i, v in enumerate(x)])\n",
    "\n",
    "def reverse_convert(s):\n",
    "    '''Convert a delimited token filter format string back to list format'''\n",
    "    return  [float(f.split(\"|\")[1]) for f in s.split(\" \")]\n",
    "\n",
    "def vector_to_struct(x, version, ts):\n",
    "    '''Convert a vector to a SparkSQL Struct with string-format vector and version fields'''\n",
    "    return (convert_vector(x), version, ts)\n",
    "\n",
    "vector_struct = udf(vector_to_struct, \\\n",
    "                    StructType([StructField(\"factor\", StringType(), True), \\\n",
    "                                StructField(\"version\", StringType(), True),\\\n",
    "                                StructField(\"timestamp\", LongType(), True)]))"
   ]
  },
  {
   "cell_type": "code",
   "execution_count": 18,
   "metadata": {},
   "outputs": [
    {
     "name": "stdout",
     "output_type": "stream",
     "text": [
      "[0.10417445003986359, 0.3149499297142029, -0.06789375841617584, 0.26035580039024353, 0.22476743161678314, 0.25926652550697327, -0.28272002935409546, -0.6264508366584778, 0.1813039630651474, -0.7453020811080933, -0.4947234094142914, -0.20996421575546265, -0.16069133579730988, 0.14927813410758972, 0.242600217461586, -0.3454575836658478, -1.3579528331756592, -0.0057459017261862755, -0.15920588374137878, 0.14256320893764496]\n",
      "()\n",
      "0|0.10417445004 1|0.314949929714 2|-0.0678937584162 3|0.26035580039 4|0.224767431617 5|0.259266525507 6|-0.282720029354 7|-0.626450836658 8|0.181303963065 9|-0.745302081108 10|-0.494723409414 11|-0.209964215755 12|-0.160691335797 13|0.149278134108 14|0.242600217462 15|-0.345457583666 16|-1.35795283318 17|-0.00574590172619 18|-0.159205883741 19|0.142563208938\n"
     ]
    }
   ],
   "source": [
    "# test out the vector conversion function\n",
    "test_vec = model.userFactors.select(\"features\").first().features\n",
    "print(test_vec)\n",
    "print()\n",
    "print(convert_vector(test_vec))"
   ]
  },
  {
   "cell_type": "code",
   "execution_count": 19,
   "metadata": {},
   "outputs": [
    {
     "name": "stdout",
     "output_type": "stream",
     "text": [
      "+---+--------------------+--------------------+----------+\n",
      "| id|              factor|             version| timestamp|\n",
      "+---+--------------------+--------------------+----------+\n",
      "| 10|0|0.705092787743 ...|ALS_4c8f80826b319...|1525311449|\n",
      "| 20|0|0.81325095892 1...|ALS_4c8f80826b319...|1525311449|\n",
      "| 30|0|0.475462317467 ...|ALS_4c8f80826b319...|1525311449|\n",
      "| 40|0|1.16533362865 1...|ALS_4c8f80826b319...|1525311449|\n",
      "| 50|0|0.386682868004 ...|ALS_4c8f80826b319...|1525311449|\n",
      "+---+--------------------+--------------------+----------+\n",
      "only showing top 5 rows\n",
      "\n",
      "+---+--------------------+--------------------+----------+\n",
      "| id|              factor|             version| timestamp|\n",
      "+---+--------------------+--------------------+----------+\n",
      "| 10|0|0.10417445004 1...|ALS_4c8f80826b319...|1525311450|\n",
      "| 20|0|0.144410327077 ...|ALS_4c8f80826b319...|1525311450|\n",
      "| 30|0|-0.135210007429...|ALS_4c8f80826b319...|1525311450|\n",
      "| 40|0|-0.141759619117...|ALS_4c8f80826b319...|1525311450|\n",
      "| 50|0|0.626697540283 ...|ALS_4c8f80826b319...|1525311450|\n",
      "+---+--------------------+--------------------+----------+\n",
      "only showing top 5 rows\n",
      "\n"
     ]
    }
   ],
   "source": [
    "ver = model.uid\n",
    "ts = unix_timestamp(current_timestamp())\n",
    "project_vectors = model.itemFactors.select(\"id\", vector_struct(\"features\", lit(ver), ts).alias(\"@model\"))\n",
    "project_vectors.select(\"id\", \"@model.factor\", \"@model.version\", \"@model.timestamp\").show(5)\n",
    "user_vectors = model.userFactors.select(\"id\", vector_struct(\"features\", lit(ver), ts).alias(\"@model\"))\n",
    "user_vectors.select(\"id\", \"@model.factor\", \"@model.version\", \"@model.timestamp\").show(5)"
   ]
  },
  {
   "cell_type": "code",
   "execution_count": 20,
   "metadata": {},
   "outputs": [
    {
     "name": "stdout",
     "output_type": "stream",
     "text": [
      "+---+--------------------+\n",
      "| id|              @model|\n",
      "+---+--------------------+\n",
      "| 10|[0|0.705092787743...|\n",
      "| 20|[0|0.81325095892 ...|\n",
      "| 30|[0|0.475462317467...|\n",
      "| 40|[0|1.16533362865 ...|\n",
      "| 50|[0|0.386682868004...|\n",
      "| 60|[0|0.304642319679...|\n",
      "| 70|[0|0.19795666635 ...|\n",
      "| 80|[0|0.505135059357...|\n",
      "| 90|[0|0.354219198227...|\n",
      "|100|[0|1.75060594082 ...|\n",
      "|110|[0|0.856565415859...|\n",
      "|120|[0|0.946621417999...|\n",
      "+---+--------------------+\n",
      "only showing top 12 rows\n",
      "\n"
     ]
    }
   ],
   "source": [
    "project_vectors.show(12)"
   ]
  },
  {
   "cell_type": "code",
   "execution_count": 21,
   "metadata": {},
   "outputs": [
    {
     "name": "stdout",
     "output_type": "stream",
     "text": [
      "+---+---------+--------------------+--------------------+--------------------+--------------------+--------------------+--------------------+--------------------+--------------------+--------------------+\n",
      "| id|ngoUserId|             ngoName|              region|                name|               scope|                need|       beneficiaries|             funding|             contact|            imageUrl|\n",
      "+---+---------+--------------------+--------------------+--------------------+--------------------+--------------------+--------------------+--------------------+--------------------+--------------------+\n",
      "|  1|        7|Jayaprakash Naray...|Noida, Uttar Prad...|Vidya & Child: Ar...|Exposure to art i...|The JP Narayan Tr...|                250 |       INR 4,94,000 |jawahar.k@cii.in ...|https://source.un...|\n",
      "|  2|       87| Deep Griha Society |3 urban slums: Pu...|Creches for worki...|This project is d...|The benefits of t...|300 families; ie:...|      INR 18,72,433 |/ sarbani.chakrav...|https://source.un...|\n",
      "|  3|       12|         Let MeKnow |          Pan India |Awareness about o...|This project is a...|Youth, particular...|10 million (over ...|INR 20,00,000 (ov...|jawahar.k@cii.in ...|https://source.un...|\n",
      "|  4|       18|         Let MeKnow |          Pan India |Connecting organi...|This project will...|The project will ...|10,000 organizati...|INR 15,00,000 (ov...|/ sarbani.chakrav...|https://source.un...|\n",
      "|  5|       66|New Resolution In...|        Maharashtra |Seed your Dreams ...|This programme ho...|The backbone of t...|              1200+ |      INR 20,65,400 |jawahar.k@cii.in ...|https://source.un...|\n",
      "|  6|       84|Native Medicare C...|         Tamil Nadu |         Sahanivasa |Sahanivasa is an ...|Parents work from...|                 50 |      INR 11,45,000 |/ sarbani.chakrav...|https://source.un...|\n",
      "|  7|       49|Kalinga Isntitute...|Orissa, Chhatishg...|Sponsorship of Un...|The project will ...|In India there is...|1300 tribal stude...|      INR 19,85,330 |jawahar.k@cii.in ...|https://source.un...|\n",
      "|  8|      106|     Avanti Fellows |Mumbai, Chennai, ...|Broadening access...|Avanti Fellows id...|There is a system...|Primary beneficia...|INR 30,40,000 (in...|/ sarbani.chakrav...|https://source.un...|\n",
      "|  9|       49|SOS Children's Vi...|          Pan India |Family Home Spons...|SOS Childrens Vil...|The basis and aim...|               6000 |       INR 5,40,000 |jawahar.k@cii.in ...|https://source.un...|\n",
      "| 10|       79|     Literacy India |Gurgaon, Haryana,...|Assistance for sk...|Literacy India re...|This project aims...|    1000 households |      INR 10,08,000 |/ sarbani.chakrav...|https://source.un...|\n",
      "| 11|       93|  Deep GrihaSociety |3 urban slums: Pu...|City of Child: A ...|This City of Chil...|The City of Child...|50 children and t...|       INR 9,69,688 |jawahar.k@cii.in ...|https://source.un...|\n",
      "| 12|      102|Jan Manas Vikas S...|Lucknow, Uttar Pr...|Rehabilitation ce...|This is a rehabil...|This project is f...|              100 + |      INR 32,22,022 |/ sarbani.chakrav...|https://source.un...|\n",
      "+---+---------+--------------------+--------------------+--------------------+--------------------+--------------------+--------------------+--------------------+--------------------+--------------------+\n",
      "only showing top 12 rows\n",
      "\n"
     ]
    }
   ],
   "source": [
    "projectInfo.show(12)"
   ]
  },
  {
   "cell_type": "code",
   "execution_count": 22,
   "metadata": {},
   "outputs": [],
   "source": [
    "# write data to ES, use:\n",
    "# - \"id\" as the column to map to ES project id\n",
    "# - \"update\" write mode for ES, since you want to update new fields only\n",
    "project_vectors.write.format(\"es\") \\\n",
    "    .option(\"es.mapping.id\", \"id\") \\\n",
    "    .option(\"es.write.operation\", \"update\") \\\n",
    "    .save(\"weserve/projects\", mode=\"append\")"
   ]
  },
  {
   "cell_type": "code",
   "execution_count": 23,
   "metadata": {},
   "outputs": [],
   "source": [
    "# write data to ES, use:\n",
    "# - \"id\" as the column to map to ES project id\n",
    "# - \"index\" write mode for ES, since you have not written to the user index previously\n",
    "# - \"append\" write mode for Spark\n",
    "user_vectors.write.format(\"es\") \\\n",
    "    .option(\"es.mapping.id\", \"id\") \\\n",
    "    .option(\"es.write.operation\", \"index\") \\\n",
    "    .save(\"weserve/users\", mode=\"append\")"
   ]
  },
  {
   "cell_type": "code",
   "execution_count": 24,
   "metadata": {},
   "outputs": [
    {
     "data": {
      "text/plain": [
       "{u'_shards': {u'failed': 0, u'successful': 5, u'total': 5},\n",
       " u'hits': {u'hits': [{u'_id': u'12',\n",
       "    u'_index': u'weserve',\n",
       "    u'_score': 1.0,\n",
       "    u'_source': {u'@model': {u'factor': u'0|1.21462976933 1|0.0590036734939 2|0.34807151556 3|0.204049572349 4|-0.172221601009 5|-0.0699132084846 6|-0.0970888361335 7|0.0661358982325 8|1.6382496357 9|0.630910098553 10|0.652237951756 11|-0.482777565718 12|-0.550349533558 13|-0.699180662632 14|0.257830500603 15|-0.964305818081 16|-2.44421744347 17|-0.0355373956263 18|0.59566283226 19|0.0523681528866',\n",
       "      u'timestamp': 1525311470,\n",
       "      u'version': u'ALS_4c8f80826b319208ec9e'},\n",
       "     u'beneficiaries': u'100 + ',\n",
       "     u'contact': u'/ sarbani.chakravarty@cii.in / 0124-401 4535 (D), ',\n",
       "     u'funding': u'INR 32,22,022 ',\n",
       "     u'id': 12,\n",
       "     u'imageUrl': u'https://source.unsplash.com/z3jeIZHa3EY',\n",
       "     u'name': u'Rehabilitation centre for street children ',\n",
       "     u'need': u'This project is for the livelihood of children and to stint their wrong habits, abuses etc. The street children work at dhabas, as rag pickers, or in other forms of informal labour, as a result of which they are rendered helpless to live a mainstream, wel',\n",
       "     u'ngoName': u'Jan Manas Vikas Santhan ',\n",
       "     u'ngoUserId': 102,\n",
       "     u'region': u'Lucknow, Uttar Pradesh ',\n",
       "     u'scope': u'This is a rehabilitation programme for street children which includes their education, vocational training, shelter, meals, clothes and medical assistant etc. for three years. '},\n",
       "    u'_type': u'projects'},\n",
       "   {u'_id': u'11',\n",
       "    u'_index': u'weserve',\n",
       "    u'_score': 1.0,\n",
       "    u'_source': {u'@model': {u'factor': u'0|1.02458405495 1|-0.0878662839532 2|0.328506231308 3|0.00119838770479 4|1.17426669598 5|0.0800089165568 6|-0.861389100552 7|-0.905786633492 8|1.35873758793 9|1.09874713421 10|1.46587955952 11|-0.431805670261 12|-1.14347958565 13|-0.118747256696 14|-0.420249968767 15|0.470564156771 16|-1.66151428223 17|-0.392046779394 18|0.0426020994782 19|1.11270201206',\n",
       "      u'timestamp': 1525311470,\n",
       "      u'version': u'ALS_4c8f80826b319208ec9e'},\n",
       "     u'beneficiaries': u'50 children and their families ',\n",
       "     u'contact': u'jawahar.k@cii.in / sarbani.chakravarty@cii.in / 0124-401 ',\n",
       "     u'funding': u'INR 9,69,688 ',\n",
       "     u'id': 11,\n",
       "     u'imageUrl': u'https://source.unsplash.com/3rb_hH3qzio',\n",
       "     u'name': u'City of Child: A Home for destitute children ',\n",
       "     u'need': u'The City of Child hostel provides a safe haven to children until Grade 10. Children from half or broken families are often brought up in insecure atmospheres, and this has serious adverse effects on their mental health and wellbeing. As opposed to this s',\n",
       "     u'ngoName': u'Deep GrihaSociety ',\n",
       "     u'ngoUserId': 93,\n",
       "     u'region': u'3 urban slums: Pune City, Kasurdi Village and Deulgaongada village (Pune District) ',\n",
       "     u'scope': u'This City of Child is a Pune-based project that is aimed for orphans or children of single parents whose every need is provided in their home away from home  education, shelter, food, medical care, entertainment, counseling etc. are met. Importance is '},\n",
       "    u'_type': u'projects'}],\n",
       "  u'max_score': 1.0,\n",
       "  u'total': 2},\n",
       " u'timed_out': False,\n",
       " u'took': 16}"
      ]
     },
     "execution_count": 24,
     "metadata": {},
     "output_type": "execute_result"
    }
   ],
   "source": [
    "# search project\n",
    "es.search(index=\"weserve\", doc_type=\"projects\", q=\"id:[11 TO 12]\", size=2)"
   ]
  },
  {
   "cell_type": "code",
   "execution_count": 25,
   "metadata": {},
   "outputs": [
    {
     "data": {
      "text/plain": [
       "{u'_shards': {u'failed': 0, u'successful': 5, u'total': 5},\n",
       " u'hits': {u'hits': [{u'_id': u'12',\n",
       "    u'_index': u'weserve',\n",
       "    u'_score': 1.0,\n",
       "    u'_source': {u'@model': {u'factor': u'0|-0.083082921803 1|-0.319834560156 2|0.0599472895265 3|-0.139686107635 4|0.419433891773 5|-0.0520416945219 6|-0.496550351381 7|-0.00555573543534 8|0.142739087343 9|0.0387709625065 10|-0.309721589088 11|-0.117304287851 12|0.107994966209 13|0.135474815965 14|-0.25818040967 15|0.195693925023 16|-0.867733597755 17|-0.438328832388 18|0.393337726593 19|1.44868993759',\n",
       "      u'timestamp': 1525311476,\n",
       "      u'version': u'ALS_4c8f80826b319208ec9e'},\n",
       "     u'id': 12},\n",
       "    u'_type': u'users'},\n",
       "   {u'_id': u'11',\n",
       "    u'_index': u'weserve',\n",
       "    u'_score': 1.0,\n",
       "    u'_source': {u'@model': {u'factor': u'0|0.0676947906613 1|0.518737137318 2|0.284130424261 3|0.911633372307 4|-0.506257295609 5|-0.0785790607333 6|0.712992608547 7|-0.151328489184 8|-0.0813689157367 9|0.317590296268 10|0.199215218425 11|0.319846510887 12|-0.18065392971 13|-0.970145106316 14|-0.503030717373 15|-0.247752159834 16|-0.863714337349 17|0.130614906549 18|0.344394683838 19|-0.202061578631',\n",
       "      u'timestamp': 1525311476,\n",
       "      u'version': u'ALS_4c8f80826b319208ec9e'},\n",
       "     u'id': 11},\n",
       "    u'_type': u'users'}],\n",
       "  u'max_score': 1.0,\n",
       "  u'total': 2},\n",
       " u'timed_out': False,\n",
       " u'took': 12}"
      ]
     },
     "execution_count": 25,
     "metadata": {},
     "output_type": "execute_result"
    }
   ],
   "source": [
    "# search user\n",
    "es.search(index=\"weserve\", doc_type=\"users\", q=\"id:[11 TO 12]\", size=2)"
   ]
  },
  {
   "cell_type": "markdown",
   "metadata": {},
   "source": [
    "# Get recommendations"
   ]
  },
  {
   "cell_type": "code",
   "execution_count": 26,
   "metadata": {},
   "outputs": [],
   "source": [
    "from IPython.display import Image, HTML, display\n",
    " \n",
    "def fn_query(query_vec, q=\"*\", cosine=False):\n",
    "    \"\"\"\n",
    "    Construct an Elasticsearch function score query.\n",
    "    \n",
    "    The query takes as parameters:\n",
    "        - the field in the candidate document that contains the factor vector\n",
    "        - the query vector\n",
    "        - a flag indicating whether to use dot product or cosine similarity (normalized dot product) for scores\n",
    "        \n",
    "    The query vector passed in will be the user factor vector (if generating recommended projects for a user)\n",
    "    or project factor vector (if generating similar projects for a given project)\n",
    "    \"\"\"\n",
    "    return {\n",
    "    \"query\": {\n",
    "        \"function_score\": {\n",
    "            \"query\" : { \n",
    "                \"query_string\": {\n",
    "                    \"query\": q\n",
    "                }\n",
    "            },\n",
    "            \"script_score\": {\n",
    "                \"script\": {\n",
    "                        \"inline\": \"payload_vector_score\",\n",
    "                        \"lang\": \"native\",\n",
    "                        \"params\": {\n",
    "                            \"field\": \"@model.factor\",\n",
    "                            \"vector\": query_vec,\n",
    "                            \"cosine\" : cosine\n",
    "                        }\n",
    "                    }\n",
    "            },\n",
    "            \"boost_mode\": \"replace\"\n",
    "        }\n",
    "    }\n",
    "}\n",
    "\n",
    "\n",
    "def get_similar(the_id, q=\"*\", num=10, index=\"weserve\", dt=\"projects\"):\n",
    "    \"\"\"\n",
    "    Given a project id, execute the recommendation function score query to find similar projects, ranked by cosine similarity\n",
    "    \"\"\"\n",
    "    response = es.get(index=index, doc_type=dt, id=the_id)\n",
    "    src = response['_source']\n",
    "    if '@model' in src and 'factor' in src['@model']:\n",
    "        raw_vec = src['@model']['factor']\n",
    "        # our script actually uses the list form for the query vector and handles conversion internally\n",
    "        query_vec = reverse_convert(raw_vec)\n",
    "        q = fn_query(query_vec, q=q, cosine=True)\n",
    "        results = es.search(index, dt, body=q)\n",
    "        hits = results['hits']['hits']\n",
    "        return src, hits[1:num+1]\n",
    "    \n",
    "    \n",
    "def get_user_recs(the_id, q=\"*\", num=10, index=\"weserve\"):\n",
    "    \"\"\"\n",
    "    Given a user id, execute the recommendation function score query to find top projects, ranked by predicted rating\n",
    "    \"\"\"\n",
    "    response = es.get(index=index, doc_type=\"users\", id=the_id)\n",
    "    src = response['_source']\n",
    "    if '@model' in src and 'factor' in src['@model']:\n",
    "        raw_vec = src['@model']['factor']\n",
    "        # our script actually uses the list form for the query vector and handles conversion internally\n",
    "        query_vec = reverse_convert(raw_vec)\n",
    "        q = fn_query(query_vec, q=q, cosine=False)\n",
    "        results = es.search(index, \"projects\", body=q)\n",
    "        hits = results['hits']['hits']\n",
    "        return src, hits[:num]\n",
    "\n",
    "def get_projects_for_user(the_id, num=10, index=\"weserve\"):\n",
    "    \"\"\"\n",
    "    Given a user id, get the projects rated by that user, from highest- to lowest-rated.\n",
    "    \"\"\"\n",
    "    response = es.search(index=index, doc_type=\"score\", q=\"userId:%s\" % the_id, size=num, sort=[\"score:desc\"])\n",
    "    hits = response['hits']['hits']\n",
    "    ids = [h['_source']['projectId'] for h in hits]\n",
    "    projects = es.mget(body={\"ids\": ids}, index=index, doc_type=\"projects\", _source_include=['name'])\n",
    "    project_hits = projects['docs']\n",
    "    proj_names = [h['_source'] for h in project_hits]\n",
    "    return proj_names\n",
    "\n",
    "            \n",
    "def display_user_recs(the_id, q=\"*\", num=10, num_last=10, index=\"weserve\"):\n",
    "    user, recs = get_user_recs(the_id, q, num, index)\n",
    "    user_projects = get_projects_for_user(the_id, num_last, index)\n",
    "        \n",
    "    # display the projcts that this user has rated highly\n",
    "    display(HTML(\"<h2>Get recommended projects for user id %s</h2>\" % the_id))\n",
    "    display(HTML(\"<h4>The user has rated the following projects highly:</h4>\"))\n",
    "    user_html = \"<table border=0>\"\n",
    "    i = 0\n",
    "    for proj in user_projects:\n",
    "        project_name = proj['name']\n",
    "        user_html += \"<td><h5>%s</h5></td>\" % (project_name)\n",
    "        i += 1\n",
    "        if i % 5 == 0:\n",
    "            user_html += \"</tr><tr>\"\n",
    "    user_html += \"</tr></table>\"\n",
    "    display(HTML(user_html))\n",
    "    # now display the recommended projects for the user\n",
    "    display(HTML(\"<br>\"))\n",
    "    display(HTML(\"<h2>User may also like:</h2>\"))\n",
    "    rec_html = \"<table border=0>\"\n",
    "    i = 0\n",
    "    for rec in recs:\n",
    "        r_score = rec['_score']\n",
    "        r_title = rec['_source']['name']\n",
    "        rec_html += \"<td><h5>%s</h5></td><td><h5>%2.3f</h5></td>\" % (r_title, r_score)\n",
    "        i += 1\n",
    "        if i % 5 == 0:\n",
    "            rec_html += \"</tr><tr>\"\n",
    "    rec_html += \"</tr></table>\"\n",
    "    display(HTML(rec_html))\n",
    "\n",
    "    \n",
    "def display_similar(the_id, q=\"*\", num=10, index=\"weserve\", dt=\"projects\"):\n",
    "    \"\"\"\n",
    "    Display projects, together with similar projects and similarity scores, in a table\n",
    "    \"\"\"\n",
    "    project, recs = get_similar(the_id, q, num, index, dt)\n",
    "        \n",
    "    display(HTML(\"<h2>Get similar projects for:</h2>\"))\n",
    "    display(HTML(\"<h4>%s</h4>\" % project['name']))\n",
    "    display(HTML(\"<br>\"))\n",
    "    display(HTML(\"<h2>People who joined this project also joined these:</h2>\"))\n",
    "    sim_html = \"<table border=0>\"\n",
    "    i = 0\n",
    "    for rec in recs:\n",
    "        r_score = rec['_score']\n",
    "        r_title = rec['_source']['name']\n",
    "        sim_html += \"<td><h5>%s</h5></td><td><h5>%2.3f</h5></td>\" % (r_title, r_score)\n",
    "        i += 1\n",
    "        if i % 5 == 0:\n",
    "            sim_html += \"</tr><tr>\"\n",
    "    sim_html += \"</tr></table>\"\n",
    "    display(HTML(sim_html))"
   ]
  },
  {
   "cell_type": "code",
   "execution_count": 27,
   "metadata": {},
   "outputs": [
    {
     "data": {
      "text/html": [
       "<h2>Get similar projects for:</h2>"
      ],
      "text/plain": [
       "<IPython.core.display.HTML object>"
      ]
     },
     "metadata": {},
     "output_type": "display_data"
    },
    {
     "data": {
      "text/html": [
       "<h4>The Manav mental health project </h4>"
      ],
      "text/plain": [
       "<IPython.core.display.HTML object>"
      ]
     },
     "metadata": {},
     "output_type": "display_data"
    },
    {
     "data": {
      "text/html": [
       "<br>"
      ],
      "text/plain": [
       "<IPython.core.display.HTML object>"
      ]
     },
     "metadata": {},
     "output_type": "display_data"
    },
    {
     "data": {
      "text/html": [
       "<h2>People who joined this project also joined these:</h2>"
      ],
      "text/plain": [
       "<IPython.core.display.HTML object>"
      ]
     },
     "metadata": {},
     "output_type": "display_data"
    },
    {
     "data": {
      "text/html": [
       "<table border=0><td><h5>Village based production centre development </h5></td><td><h5>0.877</h5></td><td><h5>Project Aahar (Nutrition) </h5></td><td><h5>0.866</h5></td><td><h5>Quality primary education for out-of-school girls in tribal villages of Orissa </h5></td><td><h5>0.865</h5></td><td><h5>Psychotherapy/counseling of child and adult survivors of child sexual abuse </h5></td><td><h5>0.856</h5></td><td><h5>Urban Slum Intervention </h5></td><td><h5>0.844</h5></td></tr><tr></tr></table>"
      ],
      "text/plain": [
       "<IPython.core.display.HTML object>"
      ]
     },
     "metadata": {},
     "output_type": "display_data"
    }
   ],
   "source": [
    "# find similar projects\n",
    "display_similar(100, num=5)"
   ]
  },
  {
   "cell_type": "code",
   "execution_count": 29,
   "metadata": {},
   "outputs": [
    {
     "data": {
      "text/html": [
       "<h2>Get similar projects for:</h2>"
      ],
      "text/plain": [
       "<IPython.core.display.HTML object>"
      ]
     },
     "metadata": {},
     "output_type": "display_data"
    },
    {
     "data": {
      "text/html": [
       "<h4>The Manav mental health project </h4>"
      ],
      "text/plain": [
       "<IPython.core.display.HTML object>"
      ]
     },
     "metadata": {},
     "output_type": "display_data"
    },
    {
     "data": {
      "text/html": [
       "<br>"
      ],
      "text/plain": [
       "<IPython.core.display.HTML object>"
      ]
     },
     "metadata": {},
     "output_type": "display_data"
    },
    {
     "data": {
      "text/html": [
       "<h2>People who joined this project also joined these:</h2>"
      ],
      "text/plain": [
       "<IPython.core.display.HTML object>"
      ]
     },
     "metadata": {},
     "output_type": "display_data"
    },
    {
     "data": {
      "text/html": [
       "<table border=0><td><h5>Village based production centre development </h5></td><td><h5>0.877</h5></td><td><h5>Project Aahar (Nutrition) </h5></td><td><h5>0.866</h5></td><td><h5>Quality primary education for out-of-school girls in tribal villages of Orissa </h5></td><td><h5>0.865</h5></td><td><h5>Urban Slum Intervention </h5></td><td><h5>0.844</h5></td><td><h5>Drishti Pradaan </h5></td><td><h5>0.840</h5></td></tr><tr></tr></table>"
      ],
      "text/plain": [
       "<IPython.core.display.HTML object>"
      ]
     },
     "metadata": {},
     "output_type": "display_data"
    }
   ],
   "source": [
    "display_similar(100, num=5, q=\"name:(NOT Psychotherapy)\")"
   ]
  },
  {
   "cell_type": "code",
   "execution_count": 32,
   "metadata": {},
   "outputs": [
    {
     "data": {
      "text/html": [
       "<h2>Get recommended projects for user id 12</h2>"
      ],
      "text/plain": [
       "<IPython.core.display.HTML object>"
      ]
     },
     "metadata": {},
     "output_type": "display_data"
    },
    {
     "data": {
      "text/html": [
       "<h4>The user has rated the following projects highly:</h4>"
      ],
      "text/plain": [
       "<IPython.core.display.HTML object>"
      ]
     },
     "metadata": {},
     "output_type": "display_data"
    },
    {
     "data": {
      "text/html": [
       "<table border=0><td><h5>Mini School Bus </h5></td><td><h5>Building capabilities of girls through education</h5></td><td><h5>Corporate-Social Vocational Training Institute </h5></td><td><h5>Magic Carpet Project </h5></td><td><h5>Drishti Pradaan </h5></td></tr><tr></tr></table>"
      ],
      "text/plain": [
       "<IPython.core.display.HTML object>"
      ]
     },
     "metadata": {},
     "output_type": "display_data"
    },
    {
     "data": {
      "text/html": [
       "<br>"
      ],
      "text/plain": [
       "<IPython.core.display.HTML object>"
      ]
     },
     "metadata": {},
     "output_type": "display_data"
    },
    {
     "data": {
      "text/html": [
       "<h2>User may also like:</h2>"
      ],
      "text/plain": [
       "<IPython.core.display.HTML object>"
      ]
     },
     "metadata": {},
     "output_type": "display_data"
    },
    {
     "data": {
      "text/html": [
       "<table border=0><td><h5>Employee  volunteering </h5></td><td><h5>4.343</h5></td><td><h5>Creches for working mothers’ children </h5></td><td><h5>4.342</h5></td><td><h5>Building capabilities of girls through education</h5></td><td><h5>4.208</h5></td><td><h5>Organizing handicrafts and social upliftment work among rural women </h5></td><td><h5>4.173</h5></td><td><h5>Bees for Poverty Reduction </h5></td><td><h5>4.138</h5></td></tr><tr></tr></table>"
      ],
      "text/plain": [
       "<IPython.core.display.HTML object>"
      ]
     },
     "metadata": {},
     "output_type": "display_data"
    }
   ],
   "source": [
    "display_user_recs(12, num=5, num_last=5)"
   ]
  },
  {
   "cell_type": "code",
   "execution_count": 33,
   "metadata": {},
   "outputs": [
    {
     "data": {
      "text/html": [
       "<h2>Get recommended projects for user id 12</h2>"
      ],
      "text/plain": [
       "<IPython.core.display.HTML object>"
      ]
     },
     "metadata": {},
     "output_type": "display_data"
    },
    {
     "data": {
      "text/html": [
       "<h4>The user has rated the following projects highly:</h4>"
      ],
      "text/plain": [
       "<IPython.core.display.HTML object>"
      ]
     },
     "metadata": {},
     "output_type": "display_data"
    },
    {
     "data": {
      "text/html": [
       "<table border=0><td><h5>Mini School Bus </h5></td><td><h5>Building capabilities of girls through education</h5></td><td><h5>Corporate-Social Vocational Training Institute </h5></td><td><h5>Magic Carpet Project </h5></td><td><h5>Drishti Pradaan </h5></td></tr><tr></tr></table>"
      ],
      "text/plain": [
       "<IPython.core.display.HTML object>"
      ]
     },
     "metadata": {},
     "output_type": "display_data"
    },
    {
     "data": {
      "text/html": [
       "<br>"
      ],
      "text/plain": [
       "<IPython.core.display.HTML object>"
      ]
     },
     "metadata": {},
     "output_type": "display_data"
    },
    {
     "data": {
      "text/html": [
       "<h2>User may also like:</h2>"
      ],
      "text/plain": [
       "<IPython.core.display.HTML object>"
      ]
     },
     "metadata": {},
     "output_type": "display_data"
    },
    {
     "data": {
      "text/html": [
       "<table border=0><td><h5>Village and Urban Ward Index Card Exercise in Anuppur District (VIC) </h5></td><td><h5>3.721</h5></td><td><h5>Empowerment of marginalized communities through responsible rural tourism </h5></td><td><h5>3.378</h5></td><td><h5>Vidivelli </h5></td><td><h5>3.034</h5></td><td><h5>Empowerment of communities </h5></td><td><h5>2.781</h5></td><td><h5>Training Rural Entrepreneurs (TRE) </h5></td><td><h5>2.772</h5></td></tr><tr></tr></table>"
      ],
      "text/plain": [
       "<IPython.core.display.HTML object>"
      ]
     },
     "metadata": {},
     "output_type": "display_data"
    }
   ],
   "source": [
    "display_user_recs(12, num=5, num_last=5, q=\"id:[21 TO 30]\")"
   ]
  },
  {
   "cell_type": "code",
   "execution_count": null,
   "metadata": {},
   "outputs": [],
   "source": []
  }
 ],
 "metadata": {
  "kernelspec": {
   "display_name": "Python 2",
   "language": "python",
   "name": "python2"
  },
  "language_info": {
   "codemirror_mode": {
    "name": "ipython",
    "version": 2
   },
   "file_extension": ".py",
   "mimetype": "text/x-python",
   "name": "python",
   "nbconvert_exporter": "python",
   "pygments_lexer": "ipython2",
   "version": "2.7.12"
  }
 },
 "nbformat": 4,
 "nbformat_minor": 2
}
